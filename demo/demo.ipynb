{
 "cells": [
  {
   "cell_type": "markdown",
   "metadata": {},
   "source": [
    "# IOU Tracker\n",
    "\n",
    "IOUTracker implements a tracking algorithm or method to track objects based on their Intersection-Over-Union (IOU) information across the consecutive frames. The core concept of this algorithm refers to the article (http://elvera.nue.tu-berlin.de/files/1517Bochinski2017.pdf). The idea or the assumption is based on an existing and powerful detector and the high frame rate across the consecutive frames. Under this assumption, you can conduct the object tracking with only the localization and the IOU information. The algorithm conducts under a super-high frame rate and provides a foundation for more complicated calculations upon it. \n",
    "\n",
    "On the other hand, such an algorithm requires an evaluation. The evaluation of this implement also refers to two articles, MOT16 benchmark (https://arxiv.org/abs/1603.00831) and Multi-Target Tracker (http://citeseerx.ist.psu.edu/viewdoc/download?doi=10.1.1.309.8335&rep=rep1&type=pdf).\n",
    "\n",
    "This implementation uses MOT17Det dataset (https://motchallenge.net/data/MOT17Det/) as an example.\n",
    "\n",
    "* More information please refer to https://github.com/jiankaiwang/ioutracker.\n",
    "* More example videos please refer to ."
   ]
  },
  {
   "cell_type": "code",
   "execution_count": 1,
   "metadata": {},
   "outputs": [
    {
     "name": "stderr",
     "output_type": "stream",
     "text": [
      "WARNING:root:Load ioutracker from the relative path.\n"
     ]
    }
   ],
   "source": [
    "import os\n",
    "import tqdm\n",
    "import time\n",
    "import logging\n",
    "\n",
    "try:\n",
    "  # you must install ioutracker first\n",
    "  from ioutracker import loadLabel, outputAsFramesToVideo, IOUTracker\n",
    "  from ioutracker import EvaluateOnMOTDatasets, ExampleEvaluateMOTDatasets, EvaluateByFrame\n",
    "  logging.warning(\"Load ioutracker from the installed package.\")\n",
    "except Exception as e:\n",
    "  import sys\n",
    "  modulePaths = [os.path.join(\"..\")]\n",
    "  for path in modulePaths: sys.path.append(path)\n",
    "  from ioutracker.dataloaders.MOTDataLoader import loadLabel\n",
    "  from ioutracker.inference.MOTDet17Main import outputAsFramesToVideo\n",
    "  from ioutracker.inference.MOTDet17Main import outputAsFramesToVideo\n",
    "  from ioutracker.src.IOUTracker import IOUTracker\n",
    "  from ioutracker.metrics.MOTMetrics import EvaluateOnMOTDatasets, ExampleEvaluateMOTDatasets, EvaluateByFrame\n",
    "  logging.warning(\"Load ioutracker from the relative path.\")"
   ]
  },
  {
   "cell_type": "markdown",
   "metadata": {},
   "source": [
    "## Data Preprocessing\n",
    "\n",
    "You can use the shell script under the path, (`./ioutracker/dataloaders/MOTDataDownloader.sh`), in the git repository to download the dataset."
   ]
  },
  {
   "cell_type": "code",
   "execution_count": 2,
   "metadata": {},
   "outputs": [],
   "source": [
    "SUB_DATASET = \"train\"\n",
    "VERSION = \"MOT17Det\"\n",
    "LOCAL_PATH = os.path.join(\"/\", \"tmp\", \"MOT\")\n",
    "\n",
    "# you can change the path pointing to the dataset\n",
    "LABEL_PATH = os.path.join(LOCAL_PATH, \"{}\".format(VERSION + \"Labels\"), SUB_DATASET)\n",
    "assert os.path.exists(LABEL_PATH), \"{} is not found.\".format(LABEL_PATH)\n",
    "\n",
    "# you can change the path pointing to the dataset\n",
    "FRAME_PATH = os.path.join(LOCAL_PATH, \"{}\".format(VERSION), SUB_DATASET)\n",
    "assert os.path.exists(FRAME_PATH), \"{} is not found.\".format(FRAME_PATH)"
   ]
  },
  {
   "cell_type": "markdown",
   "metadata": {},
   "source": [
    "## Sample Selection"
   ]
  },
  {
   "cell_type": "code",
   "execution_count": 3,
   "metadata": {},
   "outputs": [
    {
     "name": "stdout",
     "output_type": "stream",
     "text": [
      "['MOT17-13', 'MOT17-09', 'MOT17-11', 'MOT17-10', 'MOT17-04', 'MOT17-05', 'MOT17-02']\n"
     ]
    }
   ],
   "source": [
    "totalSamples = next(os.walk(os.path.join(LABEL_PATH)))[1]\n",
    "print(totalSamples)"
   ]
  },
  {
   "cell_type": "code",
   "execution_count": 4,
   "metadata": {},
   "outputs": [],
   "source": [
    "SAMPLE = \"MOT17-04\"\n",
    "LABEL_FILE_PATH = os.path.join(LABEL_PATH, SAMPLE, \"gt\", \"gt.txt\")\n",
    "assert os.path.exists(LABEL_FILE_PATH), \"{} is not found.\".format(LABEL_FILE_PATH)\n",
    "\n",
    "FRAME_FILE_PATH = os.path.join(FRAME_PATH, SAMPLE, \"img1\")\n",
    "assert os.path.exists(FRAME_FILE_PATH), \"{} is not found.\".format(FRAME_FILE_PATH)"
   ]
  },
  {
   "cell_type": "markdown",
   "metadata": {},
   "source": [
    "## Output the tracking result on the video"
   ]
  },
  {
   "cell_type": "code",
   "execution_count": 5,
   "metadata": {},
   "outputs": [
    {
     "name": "stdout",
     "output_type": "stream",
     "text": [
      "Sample MOT17-04 with FPS: 30\n"
     ]
    }
   ],
   "source": [
    "FRAME_FPS = {\"MOT17-13\": 25, \"MOT17-11\": 30, \"MOT17-10\": 30, \"MOT17-09\": 30,\n",
    "             \"MOT17-05\": 14, \"MOT17-04\": 30, \"MOT17-02\": 30}\n",
    "assert SAMPLE in list(FRAME_FPS.keys()), \"{} was not found.\".format(SAMPLE)\n",
    "fps = FRAME_FPS[SAMPLE]\n",
    "print(\"Sample {} with FPS: {}\".format(SAMPLE, fps))"
   ]
  },
  {
   "cell_type": "markdown",
   "metadata": {},
   "source": [
    "Check whether or not the folder is existing, or create it if it isn't."
   ]
  },
  {
   "cell_type": "code",
   "execution_count": 6,
   "metadata": {},
   "outputs": [],
   "source": [
    "tracking_output = os.path.join(LOCAL_PATH, \"tracking_output\".format(VERSION))\n",
    "if not os.path.exists(tracking_output):\n",
    "  try:\n",
    "    os.mkdir(tracking_output)\n",
    "    print(\"Created the output path: {}\".format(tracking_output))\n",
    "  except Exception as e:\n",
    "    raise Exception(\"Can't create the folder. ({})\".format(e))"
   ]
  },
  {
   "cell_type": "markdown",
   "metadata": {},
   "source": [
    "In this example, we introduce how to output the tracking result on the consecutive frame to a video file. Notice the flag `plotting` must be set to `True` if you want to output the video."
   ]
  },
  {
   "cell_type": "code",
   "execution_count": 7,
   "metadata": {},
   "outputs": [
    {
     "name": "stderr",
     "output_type": "stream",
     "text": [
      "100%|██████████| 1049/1049 [01:39<00:00, 10.58it/s]\n"
     ]
    },
    {
     "name": "stdout",
     "output_type": "stream",
     "text": [
      "Total time cost: 192.13720297813416\n"
     ]
    }
   ],
   "source": [
    "outputAsFramesToVideo(detection_conf=0.2,\n",
    "                      iou_threshold=0.2,\n",
    "                      min_t=fps,\n",
    "                      track_min_conf=0.5,\n",
    "                      labelFilePath=LABEL_FILE_PATH,\n",
    "                      frameFilePath=FRAME_FILE_PATH,\n",
    "                      trackingOutput=tracking_output,\n",
    "                      fps=fps,\n",
    "                      outputFileName=SAMPLE,\n",
    "                      plotting=True)"
   ]
  },
  {
   "cell_type": "markdown",
   "metadata": {},
   "source": [
    "You can move the video to the desired path like below.\n",
    "\n",
    "```sh\n",
    "mv /tmp/MOT/tracking_output/tracking_MOT17-04.mp4 ~/Desktop/\n",
    "```"
   ]
  },
  {
   "cell_type": "markdown",
   "metadata": {},
   "source": [
    "## A simple example from scratch"
   ]
  },
  {
   "cell_type": "markdown",
   "metadata": {},
   "source": [
    "Load the MOT data first via the API `loadLabel`. You can also use `help` to take a look into the parameters."
   ]
  },
  {
   "cell_type": "code",
   "execution_count": 8,
   "metadata": {},
   "outputs": [],
   "source": [
    "LABELS, DFPERSONS = loadLabel(src=LABEL_FILE_PATH, format_style=\"metrics_dict\")"
   ]
  },
  {
   "cell_type": "code",
   "execution_count": 9,
   "metadata": {},
   "outputs": [
    {
     "name": "stdout",
     "output_type": "stream",
     "text": [
      "Help on function loadLabel in module ioutracker.dataloaders.MOTDataLoader:\n",
      "\n",
      "loadLabel(src, is_path=True, load_Pedestrian=True, load_Static_Person=True, visible_thresholde=0, format_style='onlybbox')\n",
      "    LoadLabel: Load a label file in the csv format.\n",
      "    \n",
      "    Args:\n",
      "      src: the MOT label file path (available when is_path is True)\n",
      "      is_path: True or False for whether the src is the file path or not\n",
      "      load_Pedestrian: whether to load the pedestrian data or not\n",
      "      load_Static_Person: whether to load the statuc person data or not\n",
      "      visible_thresholde: the threshold for filtering the invisible person data\n",
      "      format_style: provides different styles in the lists,\n",
      "                    \"onlybbox\" (func: formatBBoxAndVis), \"onlybbox_dict\" (func: formatBBoxAndVis),\n",
      "                    \"metrics\" (func: formatForMetrics), \"metrics_dict\" (func: formatForMetrics)\n",
      "    \n",
      "    Returns:\n",
      "      objects_in_frames: a list contains the person detection information per frames\n",
      "\n"
     ]
    }
   ],
   "source": [
    "help(loadLabel)"
   ]
  },
  {
   "cell_type": "markdown",
   "metadata": {},
   "source": [
    "LABELS is a dictionary whose key is the frame ID and whose value is each object detection result. The result keeps the localization and visibility in a list, more detail is `[x, y, w, h, visibility]`."
   ]
  },
  {
   "cell_type": "code",
   "execution_count": 10,
   "metadata": {},
   "outputs": [
    {
     "data": {
      "text/plain": [
       "(46,\n",
       " [[1363.0, 569.0, 103.0, 241.0, 0.86014, 1.0],\n",
       "  [371.0, 410.0, 80.0, 239.0, 1.0, 2.0],\n",
       "  [103.0, 549.0, 83.0, 251.0, 1.0, 3.0],\n",
       "  [1734.0, 457.0, 76.0, 213.0, 0.9838600000000001, 4.0],\n",
       "  [1098.0, 980.0, 78.0, 208.0, 0.48325, 5.0],\n",
       "  [632.0, 761.0, 100.0, 251.0, 0.31903000000000004, 6.0],\n",
       "  [687.0, 206.0, 77.0, 112.0, 0.7922600000000001, 45.0],\n",
       "  [678.0, 291.0, 57.0, 121.0, 0.57603, 46.0],\n",
       "  [796.0, 149.0, 60.0, 175.0, 1.0, 60.0],\n",
       "  [1789.0, 206.0, 65.0, 184.0, 1.0, 61.0],\n",
       "  [1487.0, 71.0, 53.0, 145.0, 0.76535, 62.0],\n",
       "  [1636.0, 265.0, 66.0, 181.0, 1.0, 63.0],\n",
       "  [1557.0, 254.0, 60.0, 192.0, 0.26705, 65.0],\n",
       "  [1104.0, 212.0, 56.0, 181.0, 1.0, 66.0],\n",
       "  [1031.0, 133.0, 80.0, 183.0, 0.9436399999999999, 67.0],\n",
       "  [228.0, 401.0, 63.0, 203.0, 1.0, 68.0],\n",
       "  [264.0, 365.0, 60.0, 221.0, 0.61542, 69.0],\n",
       "  [872.0, 122.0, 58.0, 180.0, 1.0, 70.0],\n",
       "  [912.0, 129.0, 48.0, 161.0, 0.61224, 71.0],\n",
       "  [1040.0, -39.0, 46.0, 123.0, 0.67742, 72.0],\n",
       "  [996.0, -41.0, 47.0, 121.0, 0.60109, 73.0],\n",
       "  [1449.0, 251.0, 55.0, 171.0, 0.8396, 74.0],\n",
       "  [1420.0, 198.0, 46.0, 171.0, 0.55567, 75.0],\n",
       "  [704.0, -5.0, 53.0, 163.0, 0.8025100000000001, 76.0],\n",
       "  [759.0, -59.0, 40.0, 110.0, 0.45946000000000004, 77.0],\n",
       "  [551.0, -43.0, 37.0, 132.0, 0.2873, 78.0],\n",
       "  [598.0, -7.0, 61.0, 77.0, 0.052109, 79.0],\n",
       "  [-30.0, 877.0, 72.0, 241.0, 0.485, 80.0],\n",
       "  [1195.0, 40.0, 76.0, 112.0, 0.9920700000000001, 81.0],\n",
       "  [506.0, 133.0, 55.0, 174.0, 0.21633000000000002, 82.0],\n",
       "  [514.0, 148.0, 88.0, 180.0, 1.0, 83.0],\n",
       "  [463.0, 85.0, 52.0, 173.0, 0.68337, 84.0],\n",
       "  [417.0, 93.0, 55.0, 167.0, 1.0, 85.0],\n",
       "  [541.0, 64.0, 41.0, 167.0, 0.45536000000000004, 86.0],\n",
       "  [491.0, 42.0, 49.0, 161.0, 0.41358, 87.0],\n",
       "  [356.0, 105.0, 52.0, 179.0, 1.0, 88.0],\n",
       "  [373.0, 77.0, 47.0, 155.0, 0.27431, 89.0],\n",
       "  [287.0, 124.0, 53.0, 170.0, 1.0, 90.0],\n",
       "  [337.0, 86.0, 49.0, 175.0, 0.3842, 91.0],\n",
       "  [223.0, 129.0, 46.0, 164.0, 0.96699, 92.0],\n",
       "  [266.0, 92.0, 56.0, 180.0, 0.42425, 93.0],\n",
       "  [242.0, 85.0, 58.0, 170.0, 0.089305, 94.0],\n",
       "  [264.0, 71.0, 54.0, 167.0, 0.09697, 95.0],\n",
       "  [209.0, 95.0, 42.0, 180.0, 0.2702, 96.0],\n",
       "  [914.0, -107.0, 38.0, 115.0, 0.068966, 97.0],\n",
       "  [1220.0, -14.0, 63.0, 148.0, 0.36871, 116.0]])"
      ]
     },
     "execution_count": 10,
     "metadata": {},
     "output_type": "execute_result"
    }
   ],
   "source": [
    "len(LABELS[1]), LABELS[1]"
   ]
  },
  {
   "cell_type": "markdown",
   "metadata": {},
   "source": [
    "DFPERSONS is a pandas dataframe object that is processed and filtered unnecessary columns."
   ]
  },
  {
   "cell_type": "code",
   "execution_count": 11,
   "metadata": {},
   "outputs": [
    {
     "data": {
      "text/html": [
       "<div>\n",
       "<style scoped>\n",
       "    .dataframe tbody tr th:only-of-type {\n",
       "        vertical-align: middle;\n",
       "    }\n",
       "\n",
       "    .dataframe tbody tr th {\n",
       "        vertical-align: top;\n",
       "    }\n",
       "\n",
       "    .dataframe thead th {\n",
       "        text-align: right;\n",
       "    }\n",
       "</style>\n",
       "<table border=\"1\" class=\"dataframe\">\n",
       "  <thead>\n",
       "    <tr style=\"text-align: right;\">\n",
       "      <th></th>\n",
       "      <th>fid</th>\n",
       "      <th>uid</th>\n",
       "      <th>bX</th>\n",
       "      <th>bY</th>\n",
       "      <th>bW</th>\n",
       "      <th>bH</th>\n",
       "      <th>conf</th>\n",
       "      <th>class</th>\n",
       "      <th>visible</th>\n",
       "    </tr>\n",
       "  </thead>\n",
       "  <tbody>\n",
       "    <tr>\n",
       "      <th>0</th>\n",
       "      <td>1</td>\n",
       "      <td>1</td>\n",
       "      <td>1363</td>\n",
       "      <td>569</td>\n",
       "      <td>103</td>\n",
       "      <td>241</td>\n",
       "      <td>1</td>\n",
       "      <td>1</td>\n",
       "      <td>0.86014</td>\n",
       "    </tr>\n",
       "    <tr>\n",
       "      <th>1</th>\n",
       "      <td>2</td>\n",
       "      <td>1</td>\n",
       "      <td>1362</td>\n",
       "      <td>568</td>\n",
       "      <td>103</td>\n",
       "      <td>241</td>\n",
       "      <td>1</td>\n",
       "      <td>1</td>\n",
       "      <td>0.86173</td>\n",
       "    </tr>\n",
       "    <tr>\n",
       "      <th>2</th>\n",
       "      <td>3</td>\n",
       "      <td>1</td>\n",
       "      <td>1362</td>\n",
       "      <td>568</td>\n",
       "      <td>103</td>\n",
       "      <td>241</td>\n",
       "      <td>1</td>\n",
       "      <td>1</td>\n",
       "      <td>0.86173</td>\n",
       "    </tr>\n",
       "    <tr>\n",
       "      <th>3</th>\n",
       "      <td>4</td>\n",
       "      <td>1</td>\n",
       "      <td>1362</td>\n",
       "      <td>568</td>\n",
       "      <td>103</td>\n",
       "      <td>241</td>\n",
       "      <td>1</td>\n",
       "      <td>1</td>\n",
       "      <td>0.86173</td>\n",
       "    </tr>\n",
       "    <tr>\n",
       "      <th>4</th>\n",
       "      <td>5</td>\n",
       "      <td>1</td>\n",
       "      <td>1362</td>\n",
       "      <td>568</td>\n",
       "      <td>103</td>\n",
       "      <td>241</td>\n",
       "      <td>1</td>\n",
       "      <td>1</td>\n",
       "      <td>0.86173</td>\n",
       "    </tr>\n",
       "  </tbody>\n",
       "</table>\n",
       "</div>"
      ],
      "text/plain": [
       "   fid  uid    bX   bY   bW   bH  conf  class  visible\n",
       "0    1    1  1363  569  103  241     1      1  0.86014\n",
       "1    2    1  1362  568  103  241     1      1  0.86173\n",
       "2    3    1  1362  568  103  241     1      1  0.86173\n",
       "3    4    1  1362  568  103  241     1      1  0.86173\n",
       "4    5    1  1362  568  103  241     1      1  0.86173"
      ]
     },
     "execution_count": 11,
     "metadata": {},
     "output_type": "execute_result"
    }
   ],
   "source": [
    "DFPERSONS.head(5)"
   ]
  },
  {
   "cell_type": "markdown",
   "metadata": {},
   "source": [
    "You can instantiate an IOUTracker to start the algorithm."
   ]
  },
  {
   "cell_type": "code",
   "execution_count": 12,
   "metadata": {
    "scrolled": false
   },
   "outputs": [
    {
     "name": "stdout",
     "output_type": "stream",
     "text": [
      "Help on class IOUTracker in module ioutracker.src.IOUTracker:\n",
      "\n",
      "class IOUTracker(builtins.object)\n",
      " |  IOUTracker(detection_conf=0.2, iou_threshold=0.5, min_t=1, track_min_conf=0.2, assignedTID=True)\n",
      " |  \n",
      " |  IOUTracker implements the IOU tracker algorithm details.\n",
      " |  \n",
      " |  Methods defined here:\n",
      " |  \n",
      " |  __call__(self, detections, returnFinishedTrackers=False, runPreviousVersion=False)\n",
      " |      Runs the IOU tracker algorithm across the consecutive frames.\n",
      " |      \n",
      " |      Args:\n",
      " |        detections: a list contains multiple detections per frame, each detection\n",
      " |                    keeps [[bX, bY, bWidth, bHeight, visible], [], []]\n",
      " |      \n",
      " |        returnFinishedTrackers: a bool for returning finished trackers\n",
      " |      \n",
      " |        runPreviousVersion: whether to run the previous version of IOUTracker algorithm.\n",
      " |      \n",
      " |      Returns:\n",
      " |        detectionMapping: a list contains multiple dictionary-structure objects\n",
      " |                          representing each detection, the order of those objects\n",
      " |                          is the same to the detection, the prototype is like\n",
      " |      \n",
      " |                          [{\"tid\": value, \"numFrames\": value, \"largerThanMinT\": Bool}]\n",
      " |      \n",
      " |                          in which numFrames is the number of objects in the history\n",
      " |                          , and largerThanMinT is a bool value for the numFrames larger\n",
      " |                          than min_t, if tid == -1, it represents this detection is\n",
      " |                          unassigned\n",
      " |        finishedTrackers: (optional)\n",
      " |                          a list contains multiple dictionary-structure objects\n",
      " |                          representing each finished tracks, the prototype is like\n",
      " |      \n",
      " |                          [{\"ftid\": value, \"numFrames\": value, \"largerThanMinT\": Bool}]\n",
      " |      \n",
      " |                          in which the finishedTrackers is similar to the detectionMapping\n",
      " |                          , the difference are that in finishedTrackers ftid is\n",
      " |                          finished tid and finishedTrackers keeps all finished\n",
      " |                          trackers from the beginning\n",
      " |  \n",
      " |  __del__(self)\n",
      " |      Delete this object.\n",
      " |  \n",
      " |  __init__(self, detection_conf=0.2, iou_threshold=0.5, min_t=1, track_min_conf=0.2, assignedTID=True)\n",
      " |      Constructor.\n",
      " |      \n",
      " |      Args:\n",
      " |        detection_conf (sigma_l): the detection was removed when its confident score\n",
      " |                                  is lower than detection_conf\n",
      " |        iou_threshold (sigma_IOU): the min IOU threshold between a detection and\n",
      " |                                   active tracks\n",
      " |        min_t: the track is filtered out when its length is shorter than min_t\n",
      " |        track_min_conf (sigma_h): the track is filtered out when all of its detections'\n",
      " |                                  confident scores are less than the track_min_conf\n",
      " |        assignedTID: the flag to automatically assign a tracker ID to a track,\n",
      " |                     if it is set to False, you can assign a customized TID later\n",
      " |  \n",
      " |  __previous__(self, detections, returnFinishedTrackers=False)\n",
      " |      Runs the IOU tracker algorithm across the consecutive frames.\n",
      " |      \n",
      " |      Args:\n",
      " |        detections: a list contains multiple detections per frame, each detection\n",
      " |                    keeps [[bX, bY, bWidth, bHeight, visible], [], []]\n",
      " |      \n",
      " |        returnFinishedTrackers: a bool for returning finished trackers\n",
      " |      \n",
      " |      Returns:\n",
      " |        detectionMapping: a list contains multiple dictionary-structure objects\n",
      " |                          representing each detection, the order of those objects\n",
      " |                          is the same to the detection, the prototype is like\n",
      " |      \n",
      " |                          [{\"tid\": value, \"numFrames\": value, \"largerThanMinT\": Bool}]\n",
      " |      \n",
      " |                          in which numFrames is the number of objects in the history\n",
      " |                          , and largerThanMinT is a bool value for the numFrames larger\n",
      " |                          than min_t, if tid == -1, it represents this detection is\n",
      " |                          unassigned\n",
      " |        finishedTrackers: (optional)\n",
      " |                          a list contains multiple dictionary-structure objects\n",
      " |                          representing each finished tracks, the prototype is like\n",
      " |      \n",
      " |                          [{\"ftid\": value, \"numFrames\": value, \"largerThanMinT\": Bool}]\n",
      " |      \n",
      " |                          in which the finishedTrackers is similar to the detectionMapping\n",
      " |                          , the difference are that in finishedTrackers ftid is\n",
      " |                          finished tid and finishedTrackers keeps all finished\n",
      " |                          trackers from the beginning\n",
      " |  \n",
      " |  clear_finished_tracks(self)\n",
      " |      clear_finished_tracks cleans finished tracks.\n",
      " |  \n",
      " |  get_active_tracks(self)\n",
      " |      get_active_tracks gets the current active tracks.\n",
      " |      \n",
      " |      Args: None\n",
      " |      \n",
      " |      Returns:\n",
      " |        active_tracks: a list of active tracks that each is a Track object\n",
      " |  \n",
      " |  get_finished_tracks(self)\n",
      " |      get_finished_tracks gets the finished tracks.\n",
      " |      \n",
      " |      Args: None\n",
      " |      \n",
      " |      Returns:\n",
      " |        finished_tracks: a list of finished tracks that each is a Track object\n",
      " |  \n",
      " |  read_detections_per_frame(self, detections)\n",
      " |      read_detections_per_frame: start to parse the detections per frame.\n",
      " |      \n",
      " |      Args:\n",
      " |        detections: a list contains multiple detections per frame, each detection\n",
      " |                    keeps [[bX, bY, bWidth, bHeight, visible], [], []]\n",
      " |      \n",
      " |      Returns: None\n",
      " |  \n",
      " |  read_detections_per_frame_v2(self, detections)\n",
      " |      read_detections_per_frame: start to parse the detections per frame.\n",
      " |      \n",
      " |      Args:\n",
      " |        detections: a list contains multiple detections per frame, each detection\n",
      " |                    keeps [[bX, bY, bWidth, bHeight, visible], [], []]\n",
      " |      \n",
      " |      Returns:\n",
      " |        detections: the same list of the input one, but with a tracker ID at the\n",
      " |                    end of each detection\n",
      " |  \n",
      " |  ----------------------------------------------------------------------\n",
      " |  Static methods defined here:\n",
      " |  \n",
      " |  filter_detections(detections, detection_threshold)\n",
      " |      Filter the detections whose scores are lower than the IOU threshold.\n",
      " |      \n",
      " |      Args:\n",
      " |        detections: a list of multiple detections per frame\n",
      " |        detection_threshold: the minimum confident score\n",
      " |      \n",
      " |      Returns:\n",
      " |        available_detections: a list that removes the detections whose visible\n",
      " |                              (or probability) is lower than the detection_conf\n",
      " |  \n",
      " |  ----------------------------------------------------------------------\n",
      " |  Data descriptors defined here:\n",
      " |  \n",
      " |  __dict__\n",
      " |      dictionary for instance variables (if defined)\n",
      " |  \n",
      " |  __weakref__\n",
      " |      list of weak references to the object (if defined)\n",
      " |  \n",
      " |  detection_conf\n",
      " |      detection_conf.getter\n",
      " |  \n",
      " |  iou_threshold\n",
      " |      iou_threshold.getter\n",
      " |  \n",
      " |  min_t\n",
      " |      min_t.getter\n",
      " |  \n",
      " |  track_min_conf\n",
      " |      track_min_conf.getter\n",
      " |  \n",
      " |  ----------------------------------------------------------------------\n",
      " |  Data and other attributes defined here:\n",
      " |  \n",
      " |  active_tracks = []\n",
      " |  \n",
      " |  finished_tracks = []\n",
      "\n"
     ]
    }
   ],
   "source": [
    "help(IOUTracker)"
   ]
  },
  {
   "cell_type": "markdown",
   "metadata": {},
   "source": [
    "Create a ioutracker that implements the IOU tracker algorithm. In this example, we use the default ID increment mechanism to get the tracker ID for each box."
   ]
  },
  {
   "cell_type": "code",
   "execution_count": 13,
   "metadata": {
    "scrolled": false
   },
   "outputs": [
    {
     "name": "stdout",
     "output_type": "stream",
     "text": [
      "Frame: 150\n",
      "BBox: [1358.0, 567.0, 103.0, 242.0, 0.8623, 1.0], and its Track ID: 1\n",
      "BBox: [421.0, 256.0, 75.0, 220.0, 1.0, 2.0], and its Track ID: 2\n",
      "BBox: [101.0, 543.0, 83.0, 253.0, 0.95735, 3.0], and its Track ID: 3\n",
      "BBox: [1721.0, 457.0, 76.0, 209.0, 0.88033, 4.0], and its Track ID: 4\n",
      "BBox: [1048.0, 913.0, 71.0, 273.0, 0.61314, 5.0], and its Track ID: 5\n",
      "BBox: [629.0, 761.0, 100.0, 251.0, 0.31903000000000004, 6.0], and its Track ID: 6\n",
      "BBox: [687.0, 206.0, 77.0, 112.0, 0.726, 45.0], and its Track ID: 57\n",
      "BBox: [678.0, 291.0, 57.0, 121.0, 0.57603, 46.0], and its Track ID: 8\n",
      "BBox: [795.0, 149.0, 60.0, 174.0, 0.5852, 60.0], and its Track ID: 9\n",
      "BBox: [1490.0, 69.0, 52.0, 147.0, 0.74528, 62.0], and its Track ID: 11\n",
      "BBox: [1313.0, 177.0, 49.0, 157.0, 0.30772, 63.0], and its Track ID: 12\n",
      "BBox: [1283.0, 172.0, 62.0, 179.0, 0.8222200000000001, 65.0], and its Track ID: 43\n",
      "BBox: [596.0, 176.0, 60.0, 159.0, 0.40665999999999997, 66.0], and its Track ID: 7\n",
      "BBox: [861.0, 203.0, 68.0, 192.0, 0.9165, 67.0], and its Track ID: 15\n",
      "BBox: [109.0, 350.0, 47.0, 187.0, 0.60749, 68.0], and its Track ID: 16\n",
      "BBox: [124.0, 323.0, 56.0, 203.0, 0.4257, 69.0], and its Track ID: 49\n",
      "BBox: [757.0, 246.0, 68.0, 189.0, 0.72693, 70.0], and its Track ID: 53\n",
      "BBox: [806.0, 257.0, 62.0, 181.0, 1.0, 71.0], and its Track ID: 48\n",
      "BBox: [1165.0, 164.0, 48.0, 160.0, 0.98669, 74.0], and its Track ID: 22\n",
      "BBox: [1032.0, 132.0, 49.0, 170.0, 1.0, 75.0], and its Track ID: 23\n",
      "BBox: [704.0, -4.0, 53.0, 162.0, 0.80743, 76.0], and its Track ID: 24\n",
      "BBox: [551.0, -45.0, 42.0, 134.0, 0.26219000000000003, 78.0], and its Track ID: 26\n",
      "BBox: [598.0, -7.0, 61.0, 77.0, 0.052109, 79.0], and its Track ID: -1\n",
      "BBox: [180.0, 615.0, 66.0, 216.0, 1.0, 80.0], and its Track ID: 27\n",
      "BBox: [1221.0, 30.0, 60.0, 117.0, 1.0, 81.0], and its Track ID: 28\n",
      "BBox: [589.0, 259.0, 57.0, 191.0, 0.76176, 82.0], and its Track ID: 56\n",
      "BBox: [533.0, 267.0, 54.0, 205.0, 1.0, 83.0], and its Track ID: 29\n",
      "BBox: [457.0, -28.0, 52.0, 151.0, 0.30746999999999997, 84.0], and its Track ID: 31\n",
      "BBox: [383.0, -35.0, 44.0, 159.0, 0.68958, 85.0], and its Track ID: 32\n",
      "BBox: [539.0, 64.0, 48.0, 167.0, 0.75024, 86.0], and its Track ID: 33\n",
      "BBox: [461.0, 38.0, 46.0, 160.0, 0.99471, 87.0], and its Track ID: 34\n",
      "BBox: [356.0, 106.0, 53.0, 175.0, 1.0, 88.0], and its Track ID: 35\n",
      "BBox: [488.0, 197.0, 56.0, 168.0, 0.7739, 89.0], and its Track ID: 46\n",
      "BBox: [289.0, 125.0, 52.0, 170.0, 1.0, 90.0], and its Track ID: 37\n",
      "BBox: [344.0, 89.0, 44.0, 171.0, 0.33915, 91.0], and its Track ID: 36\n",
      "BBox: [217.0, 125.0, 51.0, 165.0, 0.9416100000000001, 92.0], and its Track ID: 39\n",
      "BBox: [257.0, 93.0, 53.0, 184.0, 0.47928000000000004, 93.0], and its Track ID: 40\n",
      "BBox: [279.0, 80.0, 56.0, 168.0, 0.15997, 94.0], and its Track ID: -1\n",
      "BBox: [267.0, 71.0, 54.0, 166.0, 0.070876, 95.0], and its Track ID: -1\n",
      "BBox: [205.0, 102.0, 40.0, 172.0, 0.20385999999999999, 96.0], and its Track ID: 58\n",
      "BBox: [918.0, -107.0, 42.0, 116.0, 0.076923, 97.0], and its Track ID: -1\n",
      "BBox: [362.0, -66.0, 44.0, 154.0, 0.26495, 98.0], and its Track ID: 59\n",
      "BBox: [402.0, 714.0, 90.0, 261.0, 1.0, 99.0], and its Track ID: 44\n",
      "BBox: [1514.0, -64.0, 48.0, 137.0, 0.43196999999999997, 118.0], and its Track ID: 55\n",
      "BBox: [1209.0, 31.0, 63.0, 103.0, 0.1875, 136.0], and its Track ID: -1\n",
      "...\n",
      "Frame: 300\n",
      "BBox: [1471.0, 591.0, 89.0, 247.0, 1.0, 1.0], and its Track ID: 1\n",
      "BBox: [455.0, 129.0, 72.0, 203.0, 1.0, 2.0], and its Track ID: 2\n",
      "BBox: [252.0, 578.0, 103.0, 256.0, 0.98324, 3.0], and its Track ID: 3\n",
      "BBox: [1719.0, 457.0, 78.0, 209.0, 0.8678100000000001, 4.0], and its Track ID: 4\n",
      "BBox: [933.0, 912.0, 74.0, 275.0, 0.61232, 5.0], and its Track ID: 5\n",
      "BBox: [636.0, 762.0, 71.0, 249.0, 0.27028, 6.0], and its Track ID: 6\n",
      "BBox: [687.0, 206.0, 77.0, 112.0, 0.7922600000000001, 45.0], and its Track ID: 57\n",
      "BBox: [678.0, 291.0, 57.0, 121.0, 0.57603, 46.0], and its Track ID: 68\n",
      "BBox: [795.0, 149.0, 59.0, 174.0, 1.0, 60.0], and its Track ID: 9\n",
      "BBox: [1461.0, 21.0, 49.0, 143.0, 1.0, 62.0], and its Track ID: 11\n",
      "BBox: [1077.0, 84.0, 51.0, 159.0, 1.0, 63.0], and its Track ID: 12\n",
      "BBox: [1008.0, 88.0, 60.0, 181.0, 1.0, 65.0], and its Track ID: 43\n",
      "BBox: [513.0, 103.0, 43.0, 175.0, 0.70945, 66.0], and its Track ID: 7\n",
      "BBox: [936.0, 63.0, 63.0, 173.0, 1.0, 67.0], and its Track ID: 15\n",
      "BBox: [109.0, 350.0, 49.0, 187.0, 0.6231899999999999, 68.0], and its Track ID: 16\n",
      "BBox: [61.0, 323.0, 79.0, 202.0, 0.29261, 69.0], and its Track ID: 64\n",
      "BBox: [816.0, 398.0, 91.0, 218.0, 1.0, 70.0], and its Track ID: 53\n",
      "BBox: [887.0, 417.0, 69.0, 198.0, 0.7, 71.0], and its Track ID: 48\n",
      "BBox: [828.0, 108.0, 46.0, 153.0, 0.5784699999999999, 74.0], and its Track ID: 65\n",
      "BBox: [740.0, 102.0, 45.0, 169.0, 0.789, 75.0], and its Track ID: 23\n",
      "BBox: [705.0, -2.0, 51.0, 161.0, 0.70204, 76.0], and its Track ID: 24\n",
      "BBox: [550.0, -42.0, 41.0, 133.0, 0.27505, 78.0], and its Track ID: 26\n",
      "BBox: [598.0, -7.0, 61.0, 77.0, 0.052109, 79.0], and its Track ID: -1\n",
      "BBox: [238.0, 394.0, 58.0, 195.0, 0.9533, 80.0], and its Track ID: 27\n",
      "BBox: [1221.0, 30.0, 60.0, 118.0, 1.0, 81.0], and its Track ID: 28\n",
      "BBox: [536.0, 445.0, 64.0, 216.0, 1.0, 82.0], and its Track ID: 46\n",
      "BBox: [461.0, 425.0, 62.0, 227.0, 0.96839, 83.0], and its Track ID: 29\n",
      "BBox: [509.0, -107.0, 49.0, 123.0, 0.10580999999999999, 84.0], and its Track ID: -1\n",
      "BBox: [458.0, -107.0, 45.0, 128.0, 0.16279000000000002, 85.0], and its Track ID: -1\n",
      "BBox: [542.0, 64.0, 45.0, 167.0, 0.51074, 86.0], and its Track ID: 33\n",
      "BBox: [315.0, 52.0, 52.0, 161.0, 0.36338000000000004, 87.0], and its Track ID: 34\n",
      "BBox: [356.0, 109.0, 52.0, 176.0, 1.0, 88.0], and its Track ID: 35\n",
      "BBox: [812.0, 360.0, 70.0, 184.0, 0.25017, 89.0], and its Track ID: 8\n",
      "BBox: [283.0, 131.0, 52.0, 170.0, 1.0, 90.0], and its Track ID: 37\n",
      "BBox: [343.0, 91.0, 43.0, 175.0, 0.36751, 91.0], and its Track ID: 36\n",
      "BBox: [219.0, 131.0, 55.0, 160.0, 0.9600700000000001, 92.0], and its Track ID: 39\n",
      "BBox: [245.0, 99.0, 46.0, 184.0, 0.31064, 93.0], and its Track ID: 40\n",
      "BBox: [277.0, 102.0, 54.0, 153.0, 0.13695, 94.0], and its Track ID: -1\n",
      "BBox: [265.0, 71.0, 54.0, 166.0, 0.17681, 95.0], and its Track ID: -1\n",
      "BBox: [205.0, 102.0, 40.0, 172.0, 0.24545, 96.0], and its Track ID: 69\n",
      "BBox: [867.0, -81.0, 35.0, 150.0, 0.45695, 97.0], and its Track ID: 62\n",
      "BBox: [410.0, 27.0, 51.0, 166.0, 0.9476, 98.0], and its Track ID: 59\n",
      "BBox: [380.0, 426.0, 82.0, 227.0, 1.0, 99.0], and its Track ID: 44\n",
      "BBox: [1849.0, 550.0, 64.0, 214.0, 0.46776, 106.0], and its Track ID: 63\n",
      "BBox: [1681.0, 43.0, 56.0, 153.0, 1.0, 118.0], and its Track ID: 55\n",
      "BBox: [1547.0, -63.0, 52.0, 140.0, 0.2782, 121.0], and its Track ID: 66\n",
      "BBox: [306.0, 847.0, 97.0, 276.0, 0.84477, 122.0], and its Track ID: 60\n",
      "BBox: [349.0, 771.0, 73.0, 268.0, 0.46674, 123.0], and its Track ID: 61\n",
      "BBox: [415.0, -83.0, 42.0, 134.0, 0.19259, 124.0], and its Track ID: -1\n",
      "BBox: [367.0, -87.0, 44.0, 134.0, 0.34123000000000003, 125.0], and its Track ID: 70\n",
      "BBox: [1351.0, -107.0, 54.0, 141.0, 0.20026, 135.0], and its Track ID: 71\n",
      "BBox: [1209.0, 36.0, 62.0, 94.0, 0.19047999999999998, 136.0], and its Track ID: -1\n",
      "BBox: [1215.0, 37.0, 69.0, 92.0, 0.042857, 140.0], and its Track ID: -1\n",
      "...\n",
      "Frame: 450\n",
      "BBox: [1555.0, 613.0, 73.0, 244.0, 1.0, 1.0], and its Track ID: 1\n",
      "BBox: [447.0, 45.0, 67.0, 187.0, 0.59355, 2.0], and its Track ID: 2\n",
      "BBox: [790.0, 574.0, 84.0, 245.0, 1.0, 3.0], and its Track ID: 3\n",
      "BBox: [1718.0, 457.0, 79.0, 209.0, 0.86179, 4.0], and its Track ID: 4\n",
      "BBox: [1017.0, 921.0, 90.0, 263.0, 0.60606, 5.0], and its Track ID: 5\n",
      "BBox: [639.0, 757.0, 70.0, 250.0, 0.25856999999999997, 6.0], and its Track ID: 6\n",
      "BBox: [687.0, 206.0, 77.0, 112.0, 0.7922600000000001, 45.0], and its Track ID: 57\n",
      "BBox: [678.0, 291.0, 57.0, 121.0, 0.57603, 46.0], and its Track ID: 68\n",
      "BBox: [798.0, 150.0, 49.0, 171.0, 1.0, 60.0], and its Track ID: 9\n",
      "BBox: [1469.0, -100.0, 51.0, 131.0, 0.18065, 62.0], and its Track ID: -1\n",
      "BBox: [1008.0, 11.0, 51.0, 156.0, 1.0, 63.0], and its Track ID: 12\n",
      "BBox: [936.0, -8.0, 58.0, 161.0, 0.94444, 65.0], and its Track ID: 43\n",
      "BBox: [517.0, 50.0, 41.0, 166.0, 0.2783, 66.0], and its Track ID: 82\n",
      "BBox: [890.0, -82.0, 52.0, 151.0, 0.18843, 67.0], and its Track ID: -1\n",
      "BBox: [112.0, 350.0, 54.0, 185.0, 0.6763399999999999, 68.0], and its Track ID: 16\n",
      "BBox: [88.0, 319.0, 54.0, 201.0, 0.20306, 69.0], and its Track ID: 84\n",
      "BBox: [885.0, 595.0, 119.0, 240.0, 1.0, 70.0], and its Track ID: 53\n",
      "BBox: [970.0, 611.0, 80.0, 218.0, 0.5679, 71.0], and its Track ID: 48\n",
      "BBox: [755.0, 90.0, 48.0, 146.0, 0.72345, 74.0], and its Track ID: 65\n",
      "BBox: [712.0, 89.0, 52.0, 168.0, 0.5854600000000001, 75.0], and its Track ID: 23\n",
      "BBox: [733.0, -56.0, 48.0, 145.0, 0.60512, 76.0], and its Track ID: 24\n",
      "BBox: [550.0, -42.0, 41.0, 132.0, 0.26907, 78.0], and its Track ID: 26\n",
      "BBox: [598.0, -7.0, 61.0, 77.0, 0.052109, 79.0], and its Track ID: -1\n",
      "BBox: [254.0, 225.0, 48.0, 178.0, 1.0, 80.0], and its Track ID: 27\n",
      "BBox: [1221.0, 30.0, 60.0, 118.0, 1.0, 81.0], and its Track ID: 28\n",
      "BBox: [349.0, 679.0, 71.0, 247.0, 1.0, 82.0], and its Track ID: 46\n",
      "BBox: [252.0, 651.0, 92.0, 250.0, 1.0, 83.0], and its Track ID: 29\n",
      "BBox: [524.0, 73.0, 52.0, 173.0, 0.8601200000000001, 86.0], and its Track ID: 33\n",
      "BBox: [323.0, 57.0, 57.0, 162.0, 0.35752, 87.0], and its Track ID: 34\n",
      "BBox: [359.0, 109.0, 52.0, 176.0, 1.0, 88.0], and its Track ID: 35\n",
      "BBox: [1378.0, 546.0, 101.0, 204.0, 0.94644, 89.0], and its Track ID: 8\n",
      "BBox: [287.0, 125.0, 52.0, 170.0, 0.87466, 90.0], and its Track ID: 37\n",
      "BBox: [347.0, 90.0, 49.0, 174.0, 0.32250999999999996, 91.0], and its Track ID: 36\n",
      "BBox: [220.0, 139.0, 55.0, 156.0, 0.79481, 92.0], and its Track ID: 39\n",
      "BBox: [232.0, 104.0, 58.0, 176.0, 0.27684000000000003, 93.0], and its Track ID: 85\n",
      "BBox: [265.0, 86.0, 58.0, 173.0, 0.17095, 94.0], and its Track ID: -1\n",
      "BBox: [261.0, 73.0, 51.0, 164.0, 0.08717899999999999, 95.0], and its Track ID: -1\n",
      "BBox: [206.0, 102.0, 40.0, 172.0, 0.21274, 96.0], and its Track ID: 83\n",
      "BBox: [863.0, -27.0, 50.0, 163.0, 0.8292700000000001, 97.0], and its Track ID: 62\n",
      "BBox: [429.0, 122.0, 57.0, 172.0, 0.60973, 98.0], and its Track ID: 59\n",
      "BBox: [443.0, 206.0, 75.0, 199.0, 1.0, 99.0], and its Track ID: 44\n",
      "BBox: [1837.0, 388.0, 85.0, 206.0, 0.9146200000000001, 105.0], and its Track ID: 81\n",
      "BBox: [1669.0, 362.0, 61.0, 200.0, 0.79113, 106.0], and its Track ID: 63\n",
      "BBox: [1509.0, -47.0, 52.0, 148.0, 0.60111, 111.0], and its Track ID: 77\n",
      "BBox: [1745.0, 154.0, 58.0, 168.0, 1.0, 118.0], and its Track ID: 55\n",
      "BBox: [1755.0, 65.0, 62.0, 168.0, 0.39776, 119.0], and its Track ID: 76\n",
      "BBox: [1718.0, 64.0, 64.0, 169.0, 0.15656, 120.0], and its Track ID: -1\n",
      "BBox: [1711.0, 110.0, 68.0, 175.0, 0.61957, 121.0], and its Track ID: 66\n",
      "BBox: [422.0, -5.0, 41.0, 147.0, 0.63063, 124.0], and its Track ID: 72\n",
      "BBox: [357.0, 3.0, 64.0, 136.0, 0.63425, 125.0], and its Track ID: 70\n",
      "BBox: [1357.0, -105.0, 55.0, 134.0, 0.20331, 135.0], and its Track ID: 87\n",
      "BBox: [1210.0, 33.0, 64.0, 93.0, 0.12504, 136.0], and its Track ID: -1\n",
      "BBox: [1218.0, 37.0, 66.0, 91.0, 0.08955199999999999, 140.0], and its Track ID: -1\n",
      "...\n"
     ]
    },
    {
     "name": "stdout",
     "output_type": "stream",
     "text": [
      "Frame: 600\n",
      "BBox: [1575.0, 589.0, 95.0, 234.0, 0.9270799999999999, 1.0], and its Track ID: 1\n",
      "BBox: [472.0, -59.0, 60.0, 182.0, 0.30055, 2.0], and its Track ID: 2\n",
      "BBox: [646.0, 546.0, 79.0, 253.0, 0.40565999999999997, 3.0], and its Track ID: 3\n",
      "BBox: [1710.0, 455.0, 89.0, 210.0, 0.82475, 4.0], and its Track ID: 4\n",
      "BBox: [991.0, 939.0, 76.0, 249.0, 0.568, 5.0], and its Track ID: 5\n",
      "BBox: [639.0, 757.0, 70.0, 250.0, 0.25856999999999997, 6.0], and its Track ID: 6\n",
      "BBox: [687.0, 206.0, 77.0, 112.0, 0.7922600000000001, 45.0], and its Track ID: 57\n",
      "BBox: [678.0, 291.0, 57.0, 121.0, 0.57603, 46.0], and its Track ID: 68\n",
      "BBox: [801.0, 146.0, 61.0, 170.0, 1.0, 60.0], and its Track ID: 9\n",
      "BBox: [972.0, -74.0, 49.0, 141.0, 0.47183, 63.0], and its Track ID: 12\n",
      "BBox: [916.0, -83.0, 53.0, 152.0, 0.40087, 65.0], and its Track ID: 43\n",
      "BBox: [620.0, 66.0, 40.0, 142.0, 0.32236, 66.0], and its Track ID: 90\n",
      "BBox: [235.0, 264.0, 61.0, 184.0, 1.0, 68.0], and its Track ID: 16\n",
      "BBox: [168.0, 247.0, 58.0, 206.0, 1.0, 69.0], and its Track ID: 84\n",
      "BBox: [1072.0, 869.0, 124.0, 262.0, 0.80608, 70.0], and its Track ID: 53\n",
      "BBox: [1162.0, 879.0, 99.0, 247.0, 0.5294399999999999, 71.0], and its Track ID: 48\n",
      "BBox: [753.0, 81.0, 41.0, 152.0, 0.94771, 74.0], and its Track ID: 96\n",
      "BBox: [797.0, 55.0, 54.0, 163.0, 0.58725, 75.0], and its Track ID: 23\n",
      "BBox: [550.0, -43.0, 42.0, 132.0, 0.27312, 78.0], and its Track ID: 26\n",
      "BBox: [598.0, -7.0, 61.0, 77.0, 0.052109, 79.0], and its Track ID: -1\n",
      "BBox: [485.0, 103.0, 46.0, 156.0, 1.0, 80.0], and its Track ID: 27\n",
      "BBox: [1221.0, 30.0, 60.0, 118.0, 1.0, 81.0], and its Track ID: 28\n",
      "BBox: [254.0, 985.0, 83.0, 203.0, 0.47058999999999995, 82.0], and its Track ID: 46\n",
      "BBox: [314.0, 916.0, 103.0, 268.0, 0.53103, 83.0], and its Track ID: 29\n",
      "BBox: [562.0, 114.0, 48.0, 173.0, 1.0, 86.0], and its Track ID: 33\n",
      "BBox: [291.0, 15.0, 54.0, 158.0, 0.48828, 87.0], and its Track ID: 34\n",
      "BBox: [359.0, 111.0, 52.0, 174.0, 0.9341200000000001, 88.0], and its Track ID: 35\n",
      "BBox: [289.0, 124.0, 48.0, 169.0, 0.97119, 90.0], and its Track ID: 37\n",
      "BBox: [352.0, 90.0, 47.0, 176.0, 0.24718, 91.0], and its Track ID: 97\n",
      "BBox: [216.0, 135.0, 53.0, 160.0, 0.76432, 92.0], and its Track ID: 39\n",
      "BBox: [200.0, 103.0, 51.0, 181.0, 0.15754, 93.0], and its Track ID: -1\n",
      "BBox: [284.0, 99.0, 53.0, 164.0, 0.23008, 94.0], and its Track ID: 92\n",
      "BBox: [276.0, 74.0, 52.0, 162.0, 0.28117, 95.0], and its Track ID: 95\n",
      "BBox: [207.0, 102.0, 40.0, 172.0, 0.0, 96.0], and its Track ID: -1\n",
      "BBox: [871.0, -67.0, 50.0, 161.0, 0.58025, 97.0], and its Track ID: 62\n",
      "BBox: [365.0, 273.0, 63.0, 196.0, 1.0, 98.0], and its Track ID: 59\n",
      "BBox: [484.0, 48.0, 61.0, 174.0, 0.48018, 99.0], and its Track ID: 44\n",
      "BBox: [1652.0, 228.0, 71.0, 198.0, 1.0, 105.0], and its Track ID: 81\n",
      "BBox: [1557.0, 216.0, 51.0, 181.0, 0.42117, 106.0], and its Track ID: 63\n",
      "BBox: [1481.0, 5.0, 58.0, 142.0, 0.93742, 111.0], and its Track ID: 77\n",
      "BBox: [1874.0, 284.0, 70.0, 177.0, 0.66197, 118.0], and its Track ID: 55\n",
      "BBox: [1628.0, -38.0, 52.0, 152.0, 0.7451, 119.0], and its Track ID: 76\n",
      "BBox: [1537.0, -55.0, 52.0, 163.0, 0.29959, 120.0], and its Track ID: 88\n",
      "BBox: [431.0, 71.0, 48.0, 166.0, 0.85335, 124.0], and its Track ID: 72\n",
      "BBox: [391.0, 88.0, 47.0, 152.0, 0.60253, 125.0], and its Track ID: 70\n",
      "BBox: [354.0, -57.0, 48.0, 137.0, 0.11830999999999998, 131.0], and its Track ID: -1\n",
      "BBox: [424.0, -47.0, 56.0, 156.0, 0.38876, 132.0], and its Track ID: 99\n",
      "BBox: [364.0, -52.0, 51.0, 153.0, 0.57168, 133.0], and its Track ID: 93\n",
      "BBox: [450.0, -56.0, 45.0, 144.0, 0.0, 134.0], and its Track ID: -1\n",
      "BBox: [1211.0, 31.0, 63.0, 91.0, 0.15625, 136.0], and its Track ID: -1\n",
      "...\n",
      "Frame: 750\n",
      "BBox: [1575.0, 591.0, 97.0, 232.0, 0.92796, 1.0], and its Track ID: 1\n",
      "BBox: [459.0, 563.0, 101.0, 250.0, 1.0, 3.0], and its Track ID: 3\n",
      "BBox: [1714.0, 456.0, 86.0, 206.0, 0.8473, 4.0], and its Track ID: 4\n",
      "BBox: [849.0, 949.0, 87.0, 239.0, 0.55, 5.0], and its Track ID: 5\n",
      "BBox: [639.0, 757.0, 70.0, 250.0, 0.25856999999999997, 6.0], and its Track ID: 6\n",
      "BBox: [687.0, 206.0, 77.0, 112.0, 0.7922600000000001, 45.0], and its Track ID: 57\n",
      "BBox: [678.0, 291.0, 57.0, 121.0, 0.57603, 46.0], and its Track ID: 68\n",
      "BBox: [778.0, 136.0, 60.0, 173.0, 1.0, 60.0], and its Track ID: 9\n",
      "BBox: [627.0, 66.0, 40.0, 139.0, 0.25244, 66.0], and its Track ID: 109\n",
      "BBox: [334.0, 195.0, 54.0, 171.0, 1.0, 68.0], and its Track ID: 16\n",
      "BBox: [259.0, 183.0, 60.0, 194.0, 1.0, 69.0], and its Track ID: 84\n",
      "BBox: [751.0, 83.0, 47.0, 150.0, 0.66198, 74.0], and its Track ID: 96\n",
      "BBox: [750.0, 44.0, 53.0, 171.0, 0.26852, 75.0], and its Track ID: 23\n",
      "BBox: [551.0, -45.0, 48.0, 131.0, 0.2483, 78.0], and its Track ID: 26\n",
      "BBox: [598.0, -7.0, 61.0, 77.0, 0.046319, 79.0], and its Track ID: -1\n",
      "BBox: [467.0, -5.0, 42.0, 140.0, 0.40524, 80.0], and its Track ID: 2\n",
      "BBox: [1221.0, 29.0, 60.0, 118.0, 1.0, 81.0], and its Track ID: 28\n",
      "BBox: [548.0, 116.0, 60.0, 174.0, 1.0, 86.0], and its Track ID: 33\n",
      "BBox: [313.0, -22.0, 45.0, 150.0, 0.5799, 87.0], and its Track ID: 34\n",
      "BBox: [360.0, 109.0, 48.0, 172.0, 0.63218, 88.0], and its Track ID: 35\n",
      "BBox: [289.0, 124.0, 49.0, 168.0, 0.53846, 90.0], and its Track ID: 37\n",
      "BBox: [350.0, 93.0, 48.0, 176.0, 0.18955, 91.0], and its Track ID: -1\n",
      "BBox: [237.0, 135.0, 48.0, 163.0, 0.61025, 92.0], and its Track ID: 39\n",
      "BBox: [209.0, 102.0, 49.0, 184.0, 0.48713999999999996, 93.0], and its Track ID: 100\n",
      "BBox: [256.0, 91.0, 56.0, 175.0, 0.22816999999999998, 94.0], and its Track ID: 92\n",
      "BBox: [292.0, 81.0, 52.0, 164.0, 0.23006999999999997, 95.0], and its Track ID: 115\n",
      "BBox: [207.0, 102.0, 40.0, 172.0, 0.023826, 96.0], and its Track ID: -1\n",
      "BBox: [873.0, -107.0, 49.0, 160.0, 0.039502999999999996, 97.0], and its Track ID: -1\n",
      "BBox: [302.0, 447.0, 70.0, 222.0, 1.0, 98.0], and its Track ID: 59\n",
      "BBox: [440.0, -107.0, 58.0, 151.0, 0.12935, 99.0], and its Track ID: -1\n",
      "BBox: [1178.0, 689.0, 86.0, 262.0, 0.87413, 100.0], and its Track ID: 103\n",
      "BBox: [1111.0, 712.0, 78.0, 253.0, 1.0, 101.0], and its Track ID: 104\n",
      "BBox: [1597.0, 93.0, 57.0, 175.0, 0.85149, 105.0], and its Track ID: 81\n",
      "BBox: [1462.0, 96.0, 55.0, 166.0, 0.9841700000000001, 106.0], and its Track ID: 63\n",
      "BBox: [1504.0, -48.0, 46.0, 135.0, 0.095588, 107.0], and its Track ID: -1\n",
      "BBox: [1497.0, -90.0, 43.0, 124.0, 0.016544999999999997, 108.0], and its Track ID: -1\n",
      "BBox: [1494.0, 14.0, 57.0, 142.0, 0.6964100000000001, 111.0], and its Track ID: 77\n",
      "BBox: [530.0, -106.0, 36.0, 131.0, 0.10749, 117.0], and its Track ID: -1\n",
      "BBox: [464.0, 187.0, 53.0, 188.0, 1.0, 124.0], and its Track ID: 72\n",
      "BBox: [402.0, 197.0, 66.0, 169.0, 0.92537, 125.0], and its Track ID: 70\n",
      "BBox: [258.0, -20.0, 47.0, 141.0, 0.61326, 131.0], and its Track ID: 111\n",
      "BBox: [444.0, 58.0, 56.0, 168.0, 0.78408, 132.0], and its Track ID: 99\n",
      "BBox: [395.0, 57.0, 51.0, 168.0, 0.63348, 133.0], and its Track ID: 93\n",
      "BBox: [453.0, 43.0, 49.0, 154.0, 0.13005999999999998, 134.0], and its Track ID: -1\n",
      "BBox: [879.0, -69.0, 60.0, 144.0, 0.5172399999999999, 141.0], and its Track ID: 105\n",
      "...\n",
      "Frame: 900\n",
      "BBox: [1575.0, 591.0, 101.0, 232.0, 0.9307799999999999, 1.0], and its Track ID: 1\n",
      "BBox: [645.0, 580.0, 79.0, 244.0, 0.3598, 3.0], and its Track ID: 3\n",
      "BBox: [1721.0, 454.0, 76.0, 211.0, 0.8823799999999999, 4.0], and its Track ID: 4\n",
      "BBox: [908.0, 941.0, 81.0, 244.0, 0.57143, 5.0], and its Track ID: 5\n",
      "BBox: [639.0, 757.0, 70.0, 250.0, 0.25856999999999997, 6.0], and its Track ID: 6\n",
      "BBox: [687.0, 206.0, 77.0, 112.0, 0.7922600000000001, 45.0], and its Track ID: 57\n",
      "BBox: [678.0, 291.0, 57.0, 121.0, 0.57603, 46.0], and its Track ID: 68\n",
      "BBox: [793.0, 140.0, 74.0, 170.0, 1.0, 60.0], and its Track ID: 9\n",
      "BBox: [628.0, 66.0, 39.0, 139.0, 0.2475, 66.0], and its Track ID: 109\n",
      "BBox: [350.0, 171.0, 50.0, 167.0, 0.48273, 68.0], and its Track ID: 16\n",
      "BBox: [302.0, 163.0, 66.0, 191.0, 0.9794799999999999, 69.0], and its Track ID: 84\n",
      "BBox: [755.0, 74.0, 51.0, 159.0, 0.8081699999999999, 74.0], and its Track ID: 96\n",
      "BBox: [744.0, 42.0, 49.0, 167.0, 0.36333000000000004, 75.0], and its Track ID: 23\n",
      "BBox: [552.0, -47.0, 54.0, 131.0, 0.22726999999999997, 78.0], and its Track ID: 26\n",
      "BBox: [598.0, -7.0, 61.0, 77.0, 0.026055000000000002, 79.0], and its Track ID: -1\n",
      "BBox: [1221.0, 29.0, 60.0, 118.0, 1.0, 81.0], and its Track ID: 28\n",
      "BBox: [558.0, 118.0, 57.0, 170.0, 1.0, 86.0], and its Track ID: 33\n",
      "BBox: [313.0, -21.0, 45.0, 150.0, 0.67233, 87.0], and its Track ID: 34\n",
      "BBox: [372.0, 106.0, 53.0, 171.0, 0.4129, 88.0], and its Track ID: 35\n",
      "BBox: [289.0, 126.0, 50.0, 167.0, 0.25093000000000004, 90.0], and its Track ID: 37\n",
      "BBox: [353.0, 90.0, 47.0, 174.0, 0.22321, 91.0], and its Track ID: 130\n",
      "BBox: [241.0, 134.0, 56.0, 165.0, 1.0, 92.0], and its Track ID: 39\n",
      "BBox: [213.0, 103.0, 48.0, 185.0, 0.51898, 93.0], and its Track ID: 100\n",
      "BBox: [241.0, 93.0, 52.0, 172.0, 0.15323, 94.0], and its Track ID: -1\n",
      "BBox: [335.0, 81.0, 50.0, 162.0, 0.19103, 95.0], and its Track ID: -1\n",
      "BBox: [208.0, 96.0, 40.0, 172.0, 0.07711799999999999, 96.0], and its Track ID: -1\n",
      "BBox: [872.0, -107.0, 50.0, 159.0, 0.325, 97.0], and its Track ID: 119\n",
      "BBox: [296.0, 674.0, 96.0, 246.0, 1.0, 98.0], and its Track ID: 59\n",
      "BBox: [968.0, 427.0, 76.0, 228.0, 1.0, 100.0], and its Track ID: 103\n",
      "BBox: [879.0, 445.0, 64.0, 224.0, 1.0, 101.0], and its Track ID: 104\n",
      "BBox: [1324.0, 900.0, 96.0, 259.0, 0.69615, 102.0], and its Track ID: 129\n",
      "BBox: [1748.0, 680.0, 90.0, 238.0, 0.73461, 103.0], and its Track ID: 127\n",
      "BBox: [1812.0, 634.0, 74.0, 251.0, 0.18952, 104.0], and its Track ID: -1\n",
      "BBox: [1501.0, -5.0, 57.0, 148.0, 0.6611899999999999, 105.0], and its Track ID: 81\n",
      "BBox: [1430.0, -4.0, 45.0, 148.0, 0.96644, 106.0], and its Track ID: 63\n",
      "BBox: [1711.0, 79.0, 54.0, 169.0, 1.0, 107.0], and its Track ID: 118\n",
      "BBox: [1597.0, 51.0, 49.0, 156.0, 0.8114600000000001, 108.0], and its Track ID: 124\n",
      "BBox: [1488.0, 99.0, 55.0, 151.0, 0.75658, 111.0], and its Track ID: 77\n",
      "BBox: [1110.0, 17.0, 52.0, 156.0, 1.0, 112.0], and its Track ID: 121\n",
      "BBox: [812.0, -102.0, 43.0, 139.0, 0.26429, 113.0], and its Track ID: 135\n",
      "BBox: [766.0, -102.0, 44.0, 140.0, 0.17967, 114.0], and its Track ID: -1\n",
      "BBox: [727.0, -61.0, 48.0, 134.0, 0.38594, 115.0], and its Track ID: 105\n",
      "BBox: [469.0, 5.0, 49.0, 144.0, 0.988, 117.0], and its Track ID: 117\n",
      "BBox: [419.0, 331.0, 56.0, 203.0, 1.0, 124.0], and its Track ID: 72\n",
      "BBox: [336.0, 347.0, 77.0, 186.0, 1.0, 125.0], and its Track ID: 70\n",
      "BBox: [418.0, 63.0, 51.0, 173.0, 0.73243, 126.0], and its Track ID: 115\n",
      "BBox: [408.0, -47.0, 68.0, 142.0, 0.41999, 127.0], and its Track ID: 128\n",
      "BBox: [387.0, -60.0, 42.0, 128.0, 0.25744, 128.0], and its Track ID: 136\n",
      "BBox: [254.0, -18.0, 52.0, 138.0, 0.71128, 131.0], and its Track ID: 111\n",
      "BBox: [480.0, 184.0, 60.0, 188.0, 1.0, 132.0], and its Track ID: 99\n",
      "BBox: [393.0, 184.0, 54.0, 184.0, 0.84629, 133.0], and its Track ID: 93\n",
      "BBox: [467.0, 168.0, 64.0, 172.0, 0.26598, 134.0], and its Track ID: 134\n",
      "BBox: [735.0, -86.0, 45.0, 139.0, 0.031832, 141.0], and its Track ID: -1\n",
      "...\n"
     ]
    },
    {
     "name": "stdout",
     "output_type": "stream",
     "text": [
      "Frame: 1050\n",
      "BBox: [1575.0, 591.0, 100.0, 239.0, 0.45578, 1.0], and its Track ID: 1\n",
      "BBox: [587.0, 536.0, 57.0, 256.0, 0.98551, 3.0], and its Track ID: 3\n",
      "BBox: [1721.0, 457.0, 76.0, 211.0, 0.8796299999999999, 4.0], and its Track ID: 4\n",
      "BBox: [875.0, 933.0, 73.0, 253.0, 0.58268, 5.0], and its Track ID: 5\n",
      "BBox: [639.0, 757.0, 70.0, 250.0, 0.25856999999999997, 6.0], and its Track ID: 6\n",
      "BBox: [687.0, 206.0, 77.0, 112.0, 0.7922600000000001, 45.0], and its Track ID: 57\n",
      "BBox: [678.0, 291.0, 57.0, 121.0, 0.57603, 46.0], and its Track ID: 68\n",
      "BBox: [793.0, 140.0, 71.0, 170.0, 0.8992, 60.0], and its Track ID: 9\n",
      "BBox: [631.0, 66.0, 39.0, 137.0, 0.21685, 66.0], and its Track ID: 109\n",
      "BBox: [485.0, 174.0, 47.0, 166.0, 0.60329, 68.0], and its Track ID: 153\n",
      "BBox: [516.0, 171.0, 71.0, 188.0, 0.92945, 69.0], and its Track ID: 84\n",
      "BBox: [753.0, 74.0, 51.0, 161.0, 0.8205100000000001, 74.0], and its Track ID: 96\n",
      "BBox: [731.0, 35.0, 58.0, 164.0, 0.5211100000000001, 75.0], and its Track ID: 23\n",
      "BBox: [553.0, -47.0, 55.0, 131.0, 0.2197, 78.0], and its Track ID: 26\n",
      "BBox: [598.0, -7.0, 61.0, 77.0, 0.020265000000000002, 79.0], and its Track ID: -1\n",
      "BBox: [1221.0, 29.0, 60.0, 118.0, 1.0, 81.0], and its Track ID: 28\n",
      "BBox: [544.0, 120.0, 54.0, 166.0, 0.44431000000000004, 86.0], and its Track ID: 33\n",
      "BBox: [308.0, -15.0, 39.0, 150.0, 0.68411, 87.0], and its Track ID: 34\n",
      "BBox: [373.0, 103.0, 56.0, 173.0, 1.0, 88.0], and its Track ID: 35\n",
      "BBox: [290.0, 126.0, 50.0, 167.0, 1.0, 90.0], and its Track ID: 37\n",
      "BBox: [358.0, 85.0, 46.0, 171.0, 0.3904, 91.0], and its Track ID: 152\n",
      "BBox: [230.0, 138.0, 53.0, 165.0, 0.9974299999999999, 92.0], and its Track ID: 39\n",
      "BBox: [201.0, 105.0, 79.0, 182.0, 0.33258000000000004, 93.0], and its Track ID: 100\n",
      "BBox: [262.0, 92.0, 62.0, 169.0, 0.2423, 94.0], and its Track ID: 148\n",
      "BBox: [342.0, 76.0, 49.0, 162.0, 0.35755, 95.0], and its Track ID: 130\n",
      "BBox: [220.0, 93.0, 39.0, 167.0, 0.021429, 96.0], and its Track ID: -1\n",
      "BBox: [872.0, -107.0, 50.0, 159.0, 0.12745, 97.0], and its Track ID: -1\n",
      "BBox: [412.0, 986.0, 99.0, 203.0, 0.46568999999999994, 98.0], and its Track ID: 59\n",
      "BBox: [933.0, 229.0, 65.0, 191.0, 1.0, 100.0], and its Track ID: 103\n",
      "BBox: [848.0, 238.0, 69.0, 193.0, 1.0, 101.0], and its Track ID: 104\n",
      "BBox: [1115.0, 544.0, 82.0, 241.0, 1.0, 102.0], and its Track ID: 129\n",
      "BBox: [1649.0, 677.0, 92.0, 236.0, 0.9753200000000001, 103.0], and its Track ID: 127\n",
      "BBox: [1608.0, 637.0, 115.0, 253.0, 0.45527, 104.0], and its Track ID: 159\n",
      "BBox: [1391.0, -91.0, 57.0, 144.0, 0.36551999999999996, 105.0], and its Track ID: 81\n",
      "BBox: [1330.0, -89.0, 44.0, 143.0, 0.125, 106.0], and its Track ID: -1\n",
      "BBox: [1869.0, 268.0, 66.0, 188.0, 0.77612, 107.0], and its Track ID: 118\n",
      "BBox: [1725.0, 219.0, 56.0, 178.0, 1.0, 108.0], and its Track ID: 124\n",
      "BBox: [1515.0, -95.0, 48.0, 159.0, 0.32653000000000004, 109.0], and its Track ID: 156\n",
      "BBox: [1468.0, -85.0, 47.0, 152.0, 0.43791, 110.0], and its Track ID: 158\n",
      "BBox: [1473.0, 225.0, 72.0, 163.0, 0.74516, 111.0], and its Track ID: 77\n",
      "BBox: [1316.0, 201.0, 59.0, 165.0, 0.71687, 112.0], and its Track ID: 121\n",
      "BBox: [852.0, -80.0, 50.0, 160.0, 0.49688999999999994, 113.0], and its Track ID: 119\n",
      "BBox: [811.0, -85.0, 50.0, 153.0, 0.35498, 114.0], and its Track ID: 157\n",
      "BBox: [757.0, -61.0, 51.0, 146.0, 0.33451, 115.0], and its Track ID: 105\n",
      "BBox: [458.0, 132.0, 56.0, 163.0, 0.60847, 117.0], and its Track ID: 117\n",
      "BBox: [374.0, 524.0, 67.0, 232.0, 1.0, 124.0], and its Track ID: 72\n",
      "BBox: [281.0, 549.0, 84.0, 214.0, 1.0, 125.0], and its Track ID: 70\n",
      "BBox: [428.0, 70.0, 67.0, 171.0, 0.61884, 126.0], and its Track ID: 115\n",
      "BBox: [493.0, 73.0, 60.0, 164.0, 0.44073999999999997, 127.0], and its Track ID: 128\n",
      "BBox: [402.0, 24.0, 63.0, 175.0, 0.33274000000000004, 128.0], and its Track ID: 136\n",
      "BBox: [459.0, 27.0, 50.0, 162.0, 0.23265, 129.0], and its Track ID: 154\n",
      "BBox: [450.0, -28.0, 52.0, 143.0, 0.17427, 130.0], and its Track ID: -1\n",
      "BBox: [356.0, 335.0, 72.0, 209.0, 0.91122, 132.0], and its Track ID: 99\n",
      "BBox: [288.0, 339.0, 68.0, 206.0, 1.0, 133.0], and its Track ID: 16\n",
      "BBox: [474.0, 330.0, 73.0, 195.0, 1.0, 134.0], and its Track ID: 143\n",
      "BBox: [731.0, -62.0, 55.0, 132.0, 0.11869, 141.0], and its Track ID: -1\n",
      "...\n"
     ]
    }
   ],
   "source": [
    "iouTracks = IOUTracker(detection_conf=0.2,\n",
    "                       iou_threshold=0.2,\n",
    "                       min_t=fps,\n",
    "                       track_min_conf=0.5, \n",
    "                       assignedTID=True)\n",
    "\n",
    "differs = 0\n",
    "allFrameIds = list(LABELS.keys())\n",
    "start, end = min(allFrameIds), max(allFrameIds) + 1\n",
    "\n",
    "for frameIdx in range(start, end, 1):\n",
    "  # apply the IOUTracker algorithm\n",
    "  # you can set runPreviousVersion to choose the latest or previous version\n",
    "  # the latest version saves lots of time to return the tracker ID\n",
    "  detectionMapping, finished = iouTracks(LABELS[frameIdx], returnFinishedTrackers=True, runPreviousVersion=False)\n",
    "\n",
    "  if frameIdx % (fps * 5) == 0:\n",
    "    print(\"Frame: {}\".format(frameIdx))\n",
    "    for bboxIdx in range(len(LABELS[frameIdx])):\n",
    "      print(\"BBox: {}, and its Track ID: {}\".format(LABELS[frameIdx][bboxIdx], detectionMapping[bboxIdx][\"tid\"]))\n",
    "    print(\"...\")"
   ]
  },
  {
   "cell_type": "markdown",
   "metadata": {},
   "source": [
    "The variable `tid_count` is used to assign the unique ID to each track. \n",
    "\n",
    "In this implementation, the IOUTracker is designed to take object detection results frame by frame, not a whole video. It keeps the information of each track. You can access the active tracks via the `get_active_tracks()` method, and watch the finished tracks via the `get_finished_tracks()` method.\n",
    " \n",
    "On the other hand, you can assign the custom tracker IDs and access the attribute `tid` of each track to get the relative track ID. Notice the parameter `assignedTID` required to be `False`."
   ]
  },
  {
   "cell_type": "code",
   "execution_count": 14,
   "metadata": {},
   "outputs": [
    {
     "name": "stdout",
     "output_type": "stream",
     "text": [
      "Frame 50 tracker Info: active 39, finished 2\n",
      "Frame 100 tracker Info: active 37, finished 7\n",
      "Frame 150 tracker Info: active 40, finished 7\n",
      "Frame 200 tracker Info: active 41, finished 7\n",
      "Frame 250 tracker Info: active 43, finished 9\n",
      "Frame 300 tracker Info: active 45, finished 11\n",
      "Frame 350 tracker Info: active 47, finished 11\n",
      "Frame 400 tracker Info: active 46, finished 13\n",
      "Frame 450 tracker Info: active 45, finished 17\n",
      "Frame 500 tracker Info: active 44, finished 17\n",
      "Frame 550 tracker Info: active 44, finished 19\n",
      "Frame 600 tracker Info: active 44, finished 21\n",
      "Frame 650 tracker Info: active 43, finished 27\n",
      "Frame 700 tracker Info: active 40, finished 32\n",
      "Frame 750 tracker Info: active 36, finished 34\n",
      "Frame 800 tracker Info: active 43, finished 34\n",
      "Frame 850 tracker Info: active 44, finished 35\n",
      "Frame 900 tracker Info: active 46, finished 35\n",
      "Frame 950 tracker Info: active 49, finished 36\n",
      "Frame 1000 tracker Info: active 48, finished 37\n"
     ]
    }
   ],
   "source": [
    "iouTracks = IOUTracker(detection_conf=0.2,\n",
    "                       iou_threshold=0.2,\n",
    "                       min_t=fps,\n",
    "                       track_min_conf=0.5, \n",
    "                       assignedTID=False)\n",
    "\n",
    "tid_count = 1\n",
    "\n",
    "for label in range(1, len(LABELS), 1):\n",
    "  # iou tracker\n",
    "  iouTracks.read_detections_per_frame(detections=LABELS[label])\n",
    "\n",
    "  active_tacks = iouTracks.get_active_tracks()\n",
    "  finished_tracks = iouTracks.get_finished_tracks()\n",
    "\n",
    "  if label % 50 == 0:\n",
    "    print(\"Frame {} tracker Info: active {}, finished {}\".format(label, len(active_tacks), len(finished_tracks)))\n",
    "  \n",
    "  # simple way to assign the tracker ID\n",
    "  for act_track in active_tacks:\n",
    "    if not act_track.tid:\n",
    "      # assign track id to use the color\n",
    "      act_track.tid = tid_count\n",
    "      tid_count += 1"
   ]
  },
  {
   "cell_type": "markdown",
   "metadata": {},
   "source": [
    "## Metrics"
   ]
  },
  {
   "cell_type": "markdown",
   "metadata": {},
   "source": [
    "ExampleEvaluateMOTDatasets helps you evaluate on each dataset or each video. Here we use the same ground truth data as the predictions to test the functionality due to the lack of a detector.\n",
    "\n",
    "**Notice that this step takes a long time to process.**"
   ]
  },
  {
   "cell_type": "code",
   "execution_count": 15,
   "metadata": {},
   "outputs": [],
   "source": [
    "Predictions, _ = loadLabel(src=LABEL_FILE_PATH, is_path=True, load_Pedestrian=True, load_Static_Person=True,\n",
    "    visible_thresholde=0.2, format_style=\"metrics_dict\")"
   ]
  },
  {
   "cell_type": "code",
   "execution_count": 16,
   "metadata": {
    "scrolled": false
   },
   "outputs": [
    {
     "name": "stderr",
     "output_type": "stream",
     "text": [
      "100%|██████████| 1049/1049 [36:06<00:00,  2.07s/it]"
     ]
    },
    {
     "name": "stdout",
     "output_type": "stream",
     "text": [
      "TP: 45298\n",
      "FP:     0\n",
      "FN:     0\n",
      "GT: 45298\n",
      "Fragment Number:     78\n",
      "SwitchID Number:     94\n",
      "Recall: 100.000%\n",
      "Precision: 100.000%\n",
      "Accuracy: 100.000%\n",
      "F1 Score: 1.000\n",
      "MOTA: 0.997925\n",
      "FN: 0\n",
      "FP: 0\n",
      "IDSW: 94\n",
      "GT: 45298\n",
      "Total trajectories: 84\n",
      "MT Number: 84, Ratio: 100.000%\n",
      "PT Number: 0, Ratio: 0.000%\n",
      "ML Number: 0, Ratio: 0.000%\n"
     ]
    },
    {
     "name": "stderr",
     "output_type": "stream",
     "text": [
      "\n"
     ]
    }
   ],
   "source": [
    "evalMOT = ExampleEvaluateMOTDatasets(LABEL_FILE_PATH, predictions=Predictions, printOnScreen=True)"
   ]
  },
  {
   "cell_type": "markdown",
   "metadata": {},
   "source": [
    "On the other hand, you can also evaluate the tracking result to the ground truth. **Notice the tracking result must contain the tracking ID.**"
   ]
  },
  {
   "cell_type": "code",
   "execution_count": 17,
   "metadata": {},
   "outputs": [],
   "source": [
    "def EvaluateFrameByFrame(groundTruth, predictions, printOnScreen=False):\n",
    "  evalFrame = EvaluateByFrame(requiredTracking=False)  \n",
    "  \n",
    "  gtFKeys = list(groundTruth.keys())\n",
    "  predFKeys = list(predictions.keys())\n",
    "  numTNOnFrame = 0\n",
    "  \n",
    "  ttlFid = list(set(gtFKeys + predFKeys))\n",
    "  ttlFid = sorted(ttlFid)\n",
    "  start = ttlFid[0]\n",
    "  end = ttlFid[-1] + 1\n",
    "  logging.warning(\"start {} and end {}\".format(start, end))\n",
    "  \n",
    "  for fid in tqdm.trange(start, end, 1):\n",
    "    if fid not in gtFKeys and fid not in predFKeys:\n",
    "      # skip the true negative\n",
    "      numTNOnFrame += 1\n",
    "      continue\n",
    "    \n",
    "    GTFrameInfo = groundTruth[fid] if fid in gtFKeys else [[]]\n",
    "    prediction = predictions[fid] if fid in predFKeys else [[]]\n",
    "    \n",
    "    evalFrame.evaluateOnPredsWithTrackerID(GTFrameInfo, prediction)\n",
    "    \n",
    "  metaRes = evalFrame.getMetricsMeta(printOnScreen=printOnScreen)\n",
    "  cmRes = evalFrame.getCM(printOnScreen=printOnScreen)\n",
    "  motaRes = evalFrame.getMOTA(printOnScreen=printOnScreen)\n",
    "  trajRes = evalFrame.getTrackQuality(printOnScreen=printOnScreen)\n",
    "  \n",
    "  if printOnScreen: print(\"The true negatives: {} frames\".format(numTNOnFrame))\n",
    "  \n",
    "  return metaRes, cmRes, motaRes, trajRes"
   ]
  },
  {
   "cell_type": "code",
   "execution_count": 18,
   "metadata": {},
   "outputs": [],
   "source": [
    "def transformUID(dicts, dataType=\"int\"):\n",
    "  dictCopy = dicts.copy()\n",
    "  for key in list(dictCopy.keys()):\n",
    "    if dataType in [\"int\", \"integer\"]:\n",
    "      for objIdx in range(len(dictCopy[key])):\n",
    "        dictCopy[key][objIdx][5] = int(dictCopy[key][objIdx][5])\n",
    "    elif dataType in [\"string\", \"str\"]:\n",
    "      for objIdx in range(len(dictCopy[key])):\n",
    "        dictCopy[key][objIdx][5] = str(dictCopy[key][objIdx][5])\n",
    "  return dictCopy"
   ]
  },
  {
   "cell_type": "code",
   "execution_count": 19,
   "metadata": {},
   "outputs": [
    {
     "name": "stderr",
     "output_type": "stream",
     "text": [
      "WARNING:root:start 1 and end 1051\n",
      "100%|██████████| 1050/1050 [16:33<00:00,  1.06it/s]"
     ]
    },
    {
     "name": "stdout",
     "output_type": "stream",
     "text": [
      "TP: 45348\n",
      "FP:     0\n",
      "FN:     0\n",
      "GT: 45348\n",
      "Fragment Number:     78\n",
      "SwitchID Number:      0\n",
      "Recall: 100.000%\n",
      "Precision: 100.000%\n",
      "Accuracy: 100.000%\n",
      "F1 Score: 1.000\n",
      "MOTA: 1.000000\n",
      "FN: 0\n",
      "FP: 0\n",
      "IDSW: 0\n",
      "GT: 45348\n",
      "Total trajectories: 84\n",
      "MT Number: 84, Ratio: 100.000%\n",
      "PT Number: 0, Ratio: 0.000%\n",
      "ML Number: 0, Ratio: 0.000%\n",
      "The true negatives: 0 frames\n"
     ]
    },
    {
     "name": "stderr",
     "output_type": "stream",
     "text": [
      "\n"
     ]
    }
   ],
   "source": [
    "groundTruth, _ = loadLabel(src=LABEL_FILE_PATH, is_path=True, load_Pedestrian=True, load_Static_Person=True,\n",
    "    visible_thresholde=0.2, format_style=\"metrics_dict\")\n",
    "\n",
    "predictions, _ = loadLabel(src=LABEL_FILE_PATH, is_path=True, load_Pedestrian=True, load_Static_Person=True,\n",
    "    visible_thresholde=0.2, format_style=\"metrics_dict\")\n",
    "\n",
    "# transform the datatype of UID\n",
    "groundTruth = transformUID(groundTruth, dataType=\"int\")\n",
    "predictions = transformUID(predictions, dataType=\"int\")\n",
    "\n",
    "evalMOT = EvaluateFrameByFrame(groundTruth=groundTruth, predictions=predictions, printOnScreen=True)"
   ]
  },
  {
   "cell_type": "markdown",
   "metadata": {},
   "source": [
    "The above two types of evaluation look similar, but they are different. The first one uses the detector result, applies an IOU Tracker algorithm on it, and evaluates the metrics. The second one uses the entire result, including the detector and the tracking result, and evaluates the metrics."
   ]
  },
  {
   "cell_type": "markdown",
   "metadata": {},
   "source": [
    "EvaluateOnMOTDatasets class helps you evaluate the multiple datastes."
   ]
  },
  {
   "cell_type": "code",
   "execution_count": 20,
   "metadata": {},
   "outputs": [
    {
     "name": "stdout",
     "output_type": "stream",
     "text": [
      "Metric mota: Value 1.0\n",
      "Metric recall: Value 0.9999999999997795\n",
      "Metric precision: Value 0.9999999999997795\n",
      "Metric accuracy: Value 0.9999999999997795\n",
      "Metric f1score: Value 0.9999999949997795\n",
      "Metric rateMT: Value 1.0\n",
      "Metric ratePT: Value 0.0\n",
      "Metric rateML: Value 0.0\n",
      "Metric TP: Value 90696\n",
      "Metric FP: Value 0\n",
      "Metric FN: Value 0\n",
      "Metric GT: Value 90696\n",
      "Metric numFragments: Value 78\n",
      "Metric numSwitchID: Value 0\n",
      "Metric numMT: Value 84\n",
      "Metric numPT: Value 0\n",
      "Metric numML: Value 0\n",
      "Metric numTraj: Value 84\n"
     ]
    }
   ],
   "source": [
    "evalMOTData = EvaluateOnMOTDatasets()\n",
    "\n",
    "# it is simple to pass the whole package of results into the multiple-dataset evaluator\n",
    "evalMOTData(evalMOT)\n",
    "evalMOTRes = evalMOTData.getResults()"
   ]
  },
  {
   "cell_type": "markdown",
   "metadata": {},
   "source": [
    "You can also evaluate metrics on each MOT datasets and then summarize them."
   ]
  },
  {
   "cell_type": "code",
   "execution_count": 21,
   "metadata": {},
   "outputs": [],
   "source": [
    "evalMOTData = EvaluateOnMOTDatasets()\n",
    "for key, _ in FRAME_FPS.items():\n",
    "  LABEL_FILE_PATH = os.path.join(LABEL_PATH, key, \"gt\", \"gt.txt\")\n",
    "  assert os.path.exists(LABEL_FILE_PATH), \"{} is not found.\".format(LABEL_FILE_PATH)\n",
    "  print(\"Sample: {}\".format(key))\n",
    "  \n",
    "  # here predictions flag is set to None, it makes to use the ground truth as the prediction\n",
    "  evalMOT = ExampleEvaluateMOTDatasets(LABEL_FILE_PATH, predictions=None, printOnScreen=True)\n",
    "  evalMOTData(evalMOT)\n",
    "  print(\"\", end=\"\\n\\n\")\n",
    "evalMOTRes = evalMOTData.getResults()"
   ]
  },
  {
   "cell_type": "code",
   "execution_count": null,
   "metadata": {},
   "outputs": [],
   "source": []
  }
 ],
 "metadata": {
  "kernelspec": {
   "display_name": "Python 3",
   "language": "python",
   "name": "python3"
  },
  "language_info": {
   "codemirror_mode": {
    "name": "ipython",
    "version": 3
   },
   "file_extension": ".py",
   "mimetype": "text/x-python",
   "name": "python",
   "nbconvert_exporter": "python",
   "pygments_lexer": "ipython3",
   "version": "3.7.3"
  }
 },
 "nbformat": 4,
 "nbformat_minor": 4
}
